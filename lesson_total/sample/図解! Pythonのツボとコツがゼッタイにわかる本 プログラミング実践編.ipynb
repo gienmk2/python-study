{
 "cells": [
  {
   "cell_type": "markdown",
   "metadata": {},
   "source": [
    "## サンプル1 Chapter 04終了時点"
   ]
  },
  {
   "cell_type": "code",
   "execution_count": null,
   "metadata": {},
   "outputs": [],
   "source": [
    "from PIL import Image\n",
    "\n",
    "img = Image.open('photo\\\\001.jpg')\n",
    "img.thumbnail((500, 400))\n",
    "img.save('photo\\\\001.jpg')"
   ]
  },
  {
   "cell_type": "markdown",
   "metadata": {},
   "source": [
    "## サンプル1 Chapter 05終了時点"
   ]
  },
  {
   "cell_type": "code",
   "execution_count": 2,
   "metadata": {},
   "outputs": [],
   "source": [
    "import os\n",
    "from PIL import Image\n",
    "\n",
    "if os.path.getsize('photo\\\\002.jpg') >= 204800:\n",
    "    img = Image.open('photo\\\\002.jpg')\n",
    "    img.thumbnail((500, 400))\n",
    "    img.save('photo\\\\002.jpg')"
   ]
  },
  {
   "cell_type": "markdown",
   "metadata": {},
   "source": [
    "## サンプル1 Chapter 07終了時点"
   ]
  },
  {
   "cell_type": "code",
   "execution_count": 3,
   "metadata": {},
   "outputs": [],
   "source": [
    "import os\n",
    "from PIL import Image\n",
    "\n",
    "fnames = os.listdir('photo')\n",
    "\n",
    "for fname in fnames:\n",
    "    if os.path.getsize(os.path.join('photo', fname)) >= 204800:\n",
    "        img = Image.open(os.path.join('photo', fname))\n",
    "        img.thumbnail((500, 400))\n",
    "        img.save(os.path.join('photo', fname))"
   ]
  },
  {
   "cell_type": "markdown",
   "metadata": {},
   "source": [
    "## サンプル1 Chapter 08終了時点"
   ]
  },
  {
   "cell_type": "code",
   "execution_count": 4,
   "metadata": {},
   "outputs": [],
   "source": [
    "import os\n",
    "from PIL import Image\n",
    "\n",
    "DIR_PHOTO = 'photo'\n",
    "MAX_FSIZE = 204800\n",
    "MAX_W = 500\n",
    "MAX_H = 400\n",
    "MAX_W_H = (MAX_W, MAX_H)\n",
    "\n",
    "fnames = os.listdir(DIR_PHOTO)\n",
    "\n",
    "for fname in fnames:\n",
    "    fpath = os.path.join(DIR_PHOTO, fname)\n",
    "\n",
    "    if os.path.getsize(fpath) >= MAX_FSIZE:\n",
    "        img = Image.open(fpath)\n",
    "        img.thumbnail(MAX_W_H)\n",
    "        img.save(fpath)"
   ]
  },
  {
   "cell_type": "markdown",
   "metadata": {},
   "source": [
    "## サンプル2 Chapter 09終了時点"
   ]
  },
  {
   "cell_type": "code",
   "execution_count": 5,
   "metadata": {},
   "outputs": [
    {
     "data": {
      "text/plain": [
       "True"
      ]
     },
     "execution_count": 5,
     "metadata": {},
     "output_type": "execute_result"
    }
   ],
   "source": [
    "import cv2\n",
    "\n",
    "cascade = cv2.CascadeClassifier('haarcascade_frontalface_default.xml')\n",
    "img = cv2.imread('photo\\\\003.jpg')\n",
    "gray = cv2.cvtColor(img, cv2.COLOR_BGR2GRAY)\n",
    "faces = cascade.detectMultiScale(gray, scaleFactor=1.1)\n",
    "\n",
    "for (x, y, w, h) in faces:\n",
    "    cv2.rectangle(img, (x, y), (x + w, y + h), (0, 0, 255))\n",
    "\n",
    "cv2.imwrite('photo\\\\003_face.jpg', img)"
   ]
  },
  {
   "cell_type": "code",
   "execution_count": null,
   "metadata": {},
   "outputs": [],
   "source": []
  }
 ],
 "metadata": {
  "kernelspec": {
   "display_name": "Python 3",
   "language": "python",
   "name": "python3"
  },
  "language_info": {
   "codemirror_mode": {
    "name": "ipython",
    "version": 3
   },
   "file_extension": ".py",
   "mimetype": "text/x-python",
   "name": "python",
   "nbconvert_exporter": "python",
   "pygments_lexer": "ipython3",
   "version": "3.7.9"
  }
 },
 "nbformat": 4,
 "nbformat_minor": 4
}
